{
 "cells": [
  {
   "cell_type": "code",
   "execution_count": 19,
   "metadata": {
    "collapsed": true
   },
   "outputs": [],
   "source": [
    "from tensorflow.keras.models import Sequential # НС прямого распространения\n",
    "from tensorflow.keras.layers import Dense, Activation, Dropout, BatchNormalization # Основные слои\n",
    "from tensorflow.keras import utils # Утилиты для to_categorical\n",
    "from tensorflow.keras.preprocessing import image # Для отрисовки изображения\n",
    "from tensorflow.keras.optimizers import Adam, Adadelta # Алгоритмы оптимизации, для настройки скорости обучения\n",
    "import numpy as np # Библиотека работы с массивами\n",
    "import matplotlib.pyplot as plt # Отрисовка изображений\n",
    "from PIL import Image # Отрисовка изображений\n",
    "import pandas as pd # Библиотека pandas\n",
    "# from google.colab import files # Импорт файлов\n",
    "from sklearn.preprocessing import LabelEncoder, StandardScaler # Функции для нормализации данных\n",
    "from sklearn import preprocessing # Пакет предварительной обработки данных\n",
    "from sklearn.model_selection import train_test_split\n",
    "import category_encoders as ce\n",
    "from sklearn.pipeline import make_pipeline, Pipeline\n",
    "from sklearn.compose import ColumnTransformer"
   ]
  },
  {
   "cell_type": "code",
   "execution_count": 3,
   "outputs": [],
   "source": [
    "cars = pd.read_csv('cars_new.csv', sep=',')"
   ],
   "metadata": {
    "collapsed": false,
    "pycharm": {
     "name": "#%%\n"
    }
   }
  },
  {
   "cell_type": "code",
   "execution_count": 5,
   "outputs": [],
   "source": [
    "X = cars.drop('price', axis=1)\n",
    "y = cars['price']"
   ],
   "metadata": {
    "collapsed": false,
    "pycharm": {
     "name": "#%%\n"
    }
   }
  },
  {
   "cell_type": "code",
   "execution_count": 13,
   "outputs": [],
   "source": [
    "num_cols = X.dtypes[X.dtypes != 'object'].keys()\n",
    "cat_cols = X.dtypes[X.dtypes == 'object'].keys()"
   ],
   "metadata": {
    "collapsed": false,
    "pycharm": {
     "name": "#%%\n"
    }
   }
  },
  {
   "cell_type": "code",
   "execution_count": null,
   "outputs": [],
   "source": [
    "X_train, X_test, y_train, y_test = train_test_split(X, y, test_size=0.3, random_state=42)"
   ],
   "metadata": {
    "collapsed": false,
    "pycharm": {
     "name": "#%%\n"
    }
   }
  },
  {
   "cell_type": "code",
   "execution_count": 21,
   "outputs": [
    {
     "name": "stderr",
     "output_type": "stream",
     "text": [
      "C:\\Users\\Alex\\anaconda3\\lib\\site-packages\\category_encoders\\utils.py:21: FutureWarning: is_categorical is deprecated and will be removed in a future version.  Use is_categorical_dtype instead\n",
      "  elif pd.api.types.is_categorical(cols):\n"
     ]
    }
   ],
   "source": [
    "pl_transform = Pipeline([\n",
    "            ('ohe', ce.OneHotEncoder(cols=cat_cols)),\n",
    "            # ('scaler', ColumnTransformer([('ct', RobustScaler(), ['MonthlySpending', 'TotalSpent'])],remainder='passthrough')),\n",
    "            ('scaler',  StandardScaler()),\n",
    "        ])\n",
    "X_train_transf = pl_transform.fit_transform(X_train)\n",
    "X_test_transf = pl_transform.transform(X_test)"
   ],
   "metadata": {
    "collapsed": false,
    "pycharm": {
     "name": "#%%\n"
    }
   }
  },
  {
   "cell_type": "code",
   "execution_count": 16,
   "outputs": [],
   "source": [
    "# Нормализуем y_train\n",
    "y_scaler = StandardScaler()\n",
    "y_train_scaled = y_scaler.fit_transform(y_train.reshape(-1,1)).flatten()"
   ],
   "metadata": {
    "collapsed": false,
    "pycharm": {
     "name": "#%%\n"
    }
   }
  },
  {
   "cell_type": "code",
   "execution_count": null,
   "outputs": [],
   "source": [
    "\n"
   ],
   "metadata": {
    "collapsed": false,
    "pycharm": {
     "name": "#%%\n"
    }
   }
  },
  {
   "cell_type": "code",
   "execution_count": null,
   "outputs": [],
   "source": [
    "model_ula = Sequential()\n",
    "model_ula.add(Dense(800, input_dim=X_train_transf.shape[1], activation='relu'))\n",
    "model_ula.add(Dropout(0.2))\n",
    "model_ula.add(Dense(400, activation='relu'))\n",
    "model_ula.add(Dropout(0.2))\n",
    "model_ula.add(Dense(1))\n",
    "\n",
    "model_ula.compile(optimizer=Adam(), loss='mse', metrics='mae')\n",
    "model_ula.fit(X_train_transf, y_train_scaled, batch_size=128, epochs=10)\n",
    "# training\n",
    "predict = model_ula.predict(X_test_transf)"
   ],
   "metadata": {
    "collapsed": false,
    "pycharm": {
     "name": "#%%\n"
    }
   }
  }
 ],
 "metadata": {
  "kernelspec": {
   "display_name": "Python 3",
   "language": "python",
   "name": "python3"
  },
  "language_info": {
   "codemirror_mode": {
    "name": "ipython",
    "version": 2
   },
   "file_extension": ".py",
   "mimetype": "text/x-python",
   "name": "python",
   "nbconvert_exporter": "python",
   "pygments_lexer": "ipython2",
   "version": "2.7.6"
  }
 },
 "nbformat": 4,
 "nbformat_minor": 0
}